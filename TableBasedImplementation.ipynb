{
 "cells": [
  {
   "cell_type": "markdown",
   "metadata": {},
   "source": [
    "### Tabular implementation of *bb* DFSM\n",
    "\n",
    "The Python code below implements the DFSM we've seen in class that accepts words over the alphabet {a,b} that have the property of *contains a bb*.  \n",
    "\n",
    "[Click on this link to see an image of the DFSM in a new tab](https://drive.google.com/open?id=1s1w_1hlRvLQTlEB7grYXzgtMDiGGaJuI)\n",
    "\n",
    "The implementation uses the *tabular* approach.  "
   ]
  },
  {
   "cell_type": "code",
   "execution_count": null,
   "metadata": {},
   "outputs": [],
   "source": [
    "# converts a symbol (character) to an integer\n",
    "# ---\n",
    "# an 'a' in ASCII has the value 97 and 'b' has the value 98\n",
    "# this will turn those into 0 and 1\n",
    "def symbolToInt(symbol):\n",
    "    return ord(symbol) - 97\n",
    "\n",
    "# set of rules for the machine\n",
    "table = [\n",
    "    [0,1],  # Moves from state 0 on a, b respectively\n",
    "    [0,2],  # Moves from state 1\n",
    "    [2,2]   # Moves from state 2\n",
    "]\n",
    "\n",
    "# define accepting states (as a hashtable)\n",
    "# ---\n",
    "# x:y are key value pairs\n",
    "# we just need to add the states that are accepting\n",
    "# as the keys; values don't matter; so, I'll add 2:0\n",
    "# ---\n",
    "# if need to define more than one, separate by commas\n",
    "# such as accepting = {2:0, 3:0}\n",
    "accepting = { 2:0 }\n",
    "\n",
    "# represents the word to parse\n",
    "# NOTE: change here if you want to try different words\n",
    "word = \"cc\"\n",
    "\n",
    "# represents the state trace\n",
    "trace = \"\"\n",
    "\n",
    "# machine initially starts in state 0\n",
    "state = 0\n",
    "\n",
    "# for each symbol in the word\n",
    "for symbol in word:\n",
    "    # update the trace\n",
    "    trace = trace + \" q\" + str(state);\n",
    "    \n",
    "    # convert the symbol to an integer\n",
    "    input = symbolToInt(symbol)\n",
    "    # this checks if any sybmols not in the alphabet were used\n",
    "    # if so, exit\n",
    "    if ((input < 0) or (input > 1)):\n",
    "        state = -1;\n",
    "        break;\n",
    "\n",
    "    # given the current state and symbol,\n",
    "    # determine next state\n",
    "    state = table[state][input]\n",
    "\n",
    "    # if it was an error, get out of loop\n",
    "    if (state == -1):\n",
    "        break;\n",
    "\n",
    "# add the last state entered to the trace\n",
    "trace = trace + \" q\" + str(state);\n",
    "# clean up trace (trimming leading whitespace)\n",
    "trace = trace.strip();\n",
    "\n",
    "# print results\n",
    "print(\"Word: \",word);\n",
    "print(\"Trace: \",trace);\n",
    "if ((state == -1) or (not(state in accepting))):\n",
    "    print(\"Decision: Reject\")\n",
    "else: \n",
    "    print(\"Decision: Accept\")"
   ]
  },
  {
   "cell_type": "markdown",
   "metadata": {},
   "source": [
    "### Tabular implementation of *ends in 101* DFSM\n",
    "\n",
    "I'll ask you to implement and test another machine - the machine that accepts all words over the alphabet that end in *101*. \n",
    "\n",
    "To succesfully complete this, do the following three things: \n",
    "\n",
    "* Copy and paste the code from the cell above into the cell below.\n",
    "\n",
    "* Update the *symbolToInt* function to subtract *48* instead of *97* in order to support the alphabet {0,1}.\n",
    "\n",
    "* Update the *table* and *accepting* information appropriately, given the image below.\n",
    "\n",
    "[Click on this link to see an image of the DFSM in a new tab](https://drive.google.com/open?id=1cDl_xCuQbaBM6Tw3v0iTmed7bPjk_cDS)\n"
   ]
  },
  {
   "cell_type": "code",
   "execution_count": null,
   "metadata": {},
   "outputs": [],
   "source": []
  }
 ],
 "metadata": {
  "kernelspec": {
   "display_name": "Python 3",
   "language": "python",
   "name": "python3"
  },
  "language_info": {
   "codemirror_mode": {
    "name": "ipython",
    "version": 3
   },
   "file_extension": ".py",
   "mimetype": "text/x-python",
   "name": "python",
   "nbconvert_exporter": "python",
   "pygments_lexer": "ipython3",
   "version": "3.6.4"
  }
 },
 "nbformat": 4,
 "nbformat_minor": 2
}
